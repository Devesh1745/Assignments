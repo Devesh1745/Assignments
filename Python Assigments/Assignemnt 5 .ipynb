{
 "cells": [
  {
   "cell_type": "code",
   "execution_count": null,
   "id": "d4fc9fa1-5a5f-456b-bb1e-1f211b00bfa5",
   "metadata": {},
   "outputs": [],
   "source": [
    "''' Q 1.Write a program that takes an integer input from the user and prints whether the number is odd\n",
    "or even."
   ]
  },
  {
   "cell_type": "code",
   "execution_count": 2,
   "id": "42fcdcc1-3de3-4c83-86ff-9ccdbb336696",
   "metadata": {},
   "outputs": [
    {
     "name": "stdin",
     "output_type": "stream",
     "text": [
      "Enter your input 5\n"
     ]
    },
    {
     "name": "stdout",
     "output_type": "stream",
     "text": [
      "Odd\n"
     ]
    }
   ],
   "source": [
    "N = int(input(\"Enter your input\"))\n",
    "if N % 2 == 0:\n",
    "    print (\"Even\")\n",
    "else:\n",
    "    print(\"Odd\")"
   ]
  },
  {
   "cell_type": "code",
   "execution_count": null,
   "id": "7b43f151-562a-42d6-8246-eb0811c91c12",
   "metadata": {},
   "outputs": [],
   "source": [
    "'''Q 2.Positive, Negative, or Zero: Create a program that checks if a number entered by the user is positive,\n",
    "negative, or zero and prints the result.'''"
   ]
  },
  {
   "cell_type": "code",
   "execution_count": 3,
   "id": "0e13e36f-b9fc-4fb3-b6ce-009cfca91581",
   "metadata": {},
   "outputs": [
    {
     "name": "stdin",
     "output_type": "stream",
     "text": [
      "Enter your input 5\n"
     ]
    },
    {
     "name": "stdout",
     "output_type": "stream",
     "text": [
      "Positive\n"
     ]
    }
   ],
   "source": [
    "N = int(input(\"Enter your input\"))\n",
    "if N ==0:\n",
    "    print(\"zero\")\n",
    "elif N<0:\n",
    "    print(\"Negative\")\n",
    "else:\n",
    "    print(\"Positive\")\n"
   ]
  },
  {
   "cell_type": "code",
   "execution_count": null,
   "id": "644578ea-ece1-4f8d-8080-8802f909e0eb",
   "metadata": {},
   "outputs": [],
   "source": [
    "'''Q3. Grade Evaluation: Write a program that takes a student's score (0-100) and prints the corresponding letter\n",
    "grade (A, B, C, D, F).'''"
   ]
  },
  {
   "cell_type": "code",
   "execution_count": 5,
   "id": "ef4160c6-2c90-4fe2-982b-d298c36e4153",
   "metadata": {},
   "outputs": [
    {
     "name": "stdin",
     "output_type": "stream",
     "text": [
      "enter marks 59\n"
     ]
    },
    {
     "name": "stdout",
     "output_type": "stream",
     "text": [
      "F\n"
     ]
    }
   ],
   "source": [
    "score = int(input(\"enter marks\"))\n",
    "\n",
    "if 90 <= score <= 100:\n",
    "    print(\"A\")\n",
    "elif 80 <= score <= 89:\n",
    "    print(\"B\")\n",
    "elif 70 <= score < 79:\n",
    "    print(\"C\")\n",
    "elif 60 <= score < 69:\n",
    "    print(\"D\")\n",
    "else:\n",
    "    print(\"F\")"
   ]
  },
  {
   "cell_type": "code",
   "execution_count": null,
   "id": "282d9521-dc26-4ae7-855b-dcf727c97bb8",
   "metadata": {},
   "outputs": [],
   "source": [
    "'''Age Check: Develop a program that asks for a user's age and determines if they are eligible to vote (age 18 or\n",
    "older).'''"
   ]
  },
  {
   "cell_type": "code",
   "execution_count": 7,
   "id": "a5afd016-bc58-4891-ac17-925f8487d9ae",
   "metadata": {},
   "outputs": [
    {
     "name": "stdin",
     "output_type": "stream",
     "text": [
      "Enter your age:  24\n"
     ]
    },
    {
     "name": "stdout",
     "output_type": "stream",
     "text": [
      "Adult\n"
     ]
    }
   ],
   "source": [
    "age = int(input(\"Enter your age: \"))\n",
    "if age <= 12:\n",
    "    print(\"Child\")\n",
    "elif age <= 19:\n",
    "    print(\"Teenager\")\n",
    "else:\n",
    "    print(\"Adult\")"
   ]
  },
  {
   "cell_type": "code",
   "execution_count": null,
   "id": "2084782e-7bb9-4cfe-88c7-861afec7a51e",
   "metadata": {},
   "outputs": [],
   "source": [
    "'''5. Temperature Check: Write a program that takes a temperature in Celsius and prints whether it is \"Freezing\",\n",
    "\"Cold\", \"Warm\", or \"Hot\" based on predefined ranges.'''"
   ]
  },
  {
   "cell_type": "code",
   "execution_count": 11,
   "id": "bb540d70-2d1f-4f76-9921-4d7f61a8f850",
   "metadata": {},
   "outputs": [
    {
     "name": "stdin",
     "output_type": "stream",
     "text": [
      "Enter Temp:  5\n"
     ]
    },
    {
     "name": "stdout",
     "output_type": "stream",
     "text": [
      "Cold\n"
     ]
    }
   ],
   "source": [
    "temp = int(input(\"Enter Temp: \"))\n",
    "if temp < 0:\n",
    "    print(\"Freezing\")\n",
    "elif 1 <= temp <= 15:\n",
    "    print(\"Cold\")\n",
    "elif 16 <= temp <= 30:\n",
    "    print(\"warm\")\n",
    "else:\n",
    "    print(\"hot\")"
   ]
  },
  {
   "cell_type": "code",
   "execution_count": 12,
   "id": "e740cd0a-4ee2-4210-84f3-0ed478447a86",
   "metadata": {},
   "outputs": [
    {
     "data": {
      "text/plain": [
       "'6. Divisibility Check: Create a program that checks if a number is divisible by 3 and/or 5 and prints appropriate\\nmessages.'"
      ]
     },
     "execution_count": 12,
     "metadata": {},
     "output_type": "execute_result"
    }
   ],
   "source": [
    "'''6. Divisibility Check: Create a program that checks if a number is divisible by 3 and/or 5 and prints appropriate\n",
    "messages.'''"
   ]
  },
  {
   "cell_type": "code",
   "execution_count": 14,
   "id": "7bafb54a-22f9-4c6a-b221-219b20261192",
   "metadata": {},
   "outputs": [
    {
     "name": "stdin",
     "output_type": "stream",
     "text": [
      "Enter your input:  5\n"
     ]
    },
    {
     "name": "stdout",
     "output_type": "stream",
     "text": [
      "5 is divisible by 5\n"
     ]
    }
   ],
   "source": [
    "num = int(input(\"Enter your input: \"))\n",
    "if num % 3 == 0 and num % 5 == 0:\n",
    "    print (num,\"is divisible by 3 and 5\")\n",
    "elif num % 3 == 0:\n",
    "    print (num,\"is divisible by 3\")\n",
    "elif num % 5 == 0:\n",
    "    print (num,\"is divisible by 5\")\n",
    "else:\n",
    "    print(\"is not divisible by 3 and 5\")"
   ]
  },
  {
   "cell_type": "code",
   "execution_count": null,
   "id": "ca54ee8f-ef27-45cc-b591-d44f72655064",
   "metadata": {},
   "outputs": [],
   "source": [
    "'''7. Leap Year Checker: Write a program that determines if a given year is a leap year or not.'''"
   ]
  },
  {
   "cell_type": "code",
   "execution_count": null,
   "id": "48b033d7-84c0-4a1d-acd6-6bf254179ff9",
   "metadata": {},
   "outputs": [],
   "source": [
    "year= int(input(\"Enter year:\"))\n",
    "if year%4==0 or (year%100==0 and year%400!=0):\n",
    "    print(\"This is leap year\")\n",
    "else:\n",
    "    print(\"This is not leap year\")"
   ]
  },
  {
   "cell_type": "code",
   "execution_count": null,
   "id": "a62ab76a-bc7b-49ed-bc75-db3f888011d1",
   "metadata": {},
   "outputs": [],
   "source": [
    "'''8. Simple Calculator: Create a basic calculator that takes two numbers and an operator (+, -, *, /) from the user\n",
    "and performs the operation, handling division by zero appropriately.''' \n"
   ]
  },
  {
   "cell_type": "code",
   "execution_count": 16,
   "id": "17cfbb9a-3792-4b8f-9c35-89a2aa34d915",
   "metadata": {},
   "outputs": [
    {
     "name": "stdin",
     "output_type": "stream",
     "text": [
      "enter your num 1 3\n",
      "enter opp /\n",
      "enter your num 2 5\n"
     ]
    },
    {
     "name": "stdout",
     "output_type": "stream",
     "text": [
      "0.6\n"
     ]
    }
   ],
   "source": [
    "num1 = int(input(\"enter your num 1\"))\n",
    "opp = input(\"enter opp\")\n",
    "num2 = int(input(\"enter your num 2\"))\n",
    "if opp == \"+\":\n",
    "    print(num1+num2)\n",
    "elif opp == \"-\":\n",
    "    print(num1-num2)\n",
    "elif opp == \"*\":\n",
    "    print(num1*num2)\n",
    "elif opp == \"/\":\n",
    "    if num2 != 0:\n",
    "        print(num1/num2)\n",
    "else:\n",
    "    print(\"division by zero is not allowed\")"
   ]
  },
  {
   "cell_type": "code",
   "execution_count": null,
   "id": "4607f1d8-9949-4473-a509-2d5bc77ca910",
   "metadata": {},
   "outputs": [],
   "source": [
    "'''1. BMI Calculator: Write a program that calculates the Body Mass Index (BMI) based on user-provided weight\n",
    "and height, then categorizes it as Underweight, Normal weight, Overweight, or Obesity.''"
   ]
  },
  {
   "cell_type": "code",
   "execution_count": 40,
   "id": "e1a5362e-2c79-4053-885b-e7bdf1fb4549",
   "metadata": {},
   "outputs": [
    {
     "name": "stdin",
     "output_type": "stream",
     "text": [
      "Enter your weight in kg:  63\n",
      "Enter your height in meters:  5.9\n"
     ]
    },
    {
     "name": "stdout",
     "output_type": "stream",
     "text": [
      "Your BMI is: 19.48\n",
      "Category:  Normal weight\n"
     ]
    }
   ],
   "source": [
    "weight = float(input(\"Enter your weight in kg: \"))\n",
    "height = float(input(\"Enter your height in meters: \"))\n",
    "height_in_meter = (height*0.3048)\n",
    "bmi = weight / (height_in_meter ** 2)\n",
    "bmi2= round(bmi,2)\n",
    "if bmi < 18.5:\n",
    "    category = \"Underweight\"\n",
    "elif 18.5 <= bmi < 24.9:\n",
    "    category = \"Normal weight\"\n",
    "elif 24.9 <= bmi < 29.9:\n",
    "    category = \"Overweight\"\n",
    "else:\n",
    "    category = \"Obesity\"\n",
    "print(\"Your BMI is:\",bmi2)\n",
    "print(\"Category: \",category)\n"
   ]
  },
  {
   "cell_type": "code",
   "execution_count": null,
   "id": "2d7afee0-97a9-4d0d-ba7c-d8e2290e94a9",
   "metadata": {},
   "outputs": [],
   "source": [
    "'''2. Discount Calculator: Create a program that calculates the final price of an item based on its original price and\n",
    "applies discounts based on predefined conditions (e.g., 10% off for prices over $100).'''"
   ]
  },
  {
   "cell_type": "code",
   "execution_count": 14,
   "id": "bdb04374-dd59-42ad-916c-488dd5ae09f7",
   "metadata": {},
   "outputs": [
    {
     "name": "stdin",
     "output_type": "stream",
     "text": [
      "enter your price =  100\n"
     ]
    },
    {
     "name": "stdout",
     "output_type": "stream",
     "text": [
      "price after 10% Discount =  90.0\n",
      "Total Discount =  10.0\n"
     ]
    }
   ],
   "source": [
    "original_price = float(input(\"enter your price = \"))\n",
    "if original_price >= 100:\n",
    "    discount_rate = 0.10\n",
    "else:\n",
    "    discount_rate = 0.0\n",
    "\n",
    "discount_amount = original_price * discount_rate\n",
    "final_price = original_price - discount_amount\n",
    "print(\"price after 10% Discount = \",final_price)\n",
    "print(\"Total Discount = \",discount_amount)"
   ]
  },
  {
   "cell_type": "code",
   "execution_count": null,
   "id": "60054199-a2dd-4997-8dd0-a1c7e10aa7f2",
   "metadata": {},
   "outputs": [],
   "source": [
    "'''3. Grade Classification: Extend the grade evaluation problem to classify grades into categories (e.g., \"Excellent\",\n",
    "\"Good\", \"Average\", \"Poor\") based on score ranges.'''"
   ]
  },
  {
   "cell_type": "code",
   "execution_count": 16,
   "id": "bb258fad-8947-4cb1-875f-ed42fa3eae81",
   "metadata": {},
   "outputs": [
    {
     "name": "stdin",
     "output_type": "stream",
     "text": [
      "enter marks 60\n"
     ]
    },
    {
     "name": "stdout",
     "output_type": "stream",
     "text": [
      "Garde D Poor\n"
     ]
    }
   ],
   "source": [
    "score = int(input(\"enter marks\"))\n",
    "\n",
    "if 90 <= score <= 100:\n",
    "    print(\"Grade A\",\"Excellent\")\n",
    "elif 80 <= score <= 89:\n",
    "    print(\"Grade B\",\"Good\")\n",
    "elif 70 <= score < 79:\n",
    "    print(\"Grade C\",\"Average\")\n",
    "elif 60 <= score < 69:\n",
    "    print(\"Garde D\",\"Poor\")\n",
    "else:\n",
    "    print(\"F\")"
   ]
  },
  {
   "cell_type": "code",
   "execution_count": null,
   "id": "9cb3a42a-5678-4f52-8ebb-90a8a943ae19",
   "metadata": {},
   "outputs": [],
   "source": [
    "'''4. Password Strength Checker: Write a program that checks if a password is strong based on conditions such\n",
    "as length, presence of digits, uppercase letters, and special characters.'''"
   ]
  },
  {
   "cell_type": "code",
   "execution_count": 17,
   "id": "59c0adb1-43e6-436f-9660-08da8b4cbd46",
   "metadata": {},
   "outputs": [
    {
     "name": "stdin",
     "output_type": "stream",
     "text": [
      "Enter your password:  Devesh@#17\n"
     ]
    },
    {
     "name": "stdout",
     "output_type": "stream",
     "text": [
      "✅ Strong password!\n"
     ]
    }
   ],
   "source": [
    "password = input(\"Enter your password: \")\n",
    "\n",
    "has_digit = False\n",
    "has_upper = False\n",
    "has_lower = False\n",
    "has_special = False\n",
    "special_characters = \"!@#$%^&*()-_+=\"\n",
    "\n",
    "if len(password) >= 8:\n",
    "    for char in password:\n",
    "        if char >= '0' and char <= '9':\n",
    "            has_digit = True\n",
    "        elif char >= 'A' and char <= 'Z':\n",
    "            has_upper = True\n",
    "        elif char >= 'a' and char <= 'z':\n",
    "            has_lower = True\n",
    "        elif char in special_characters:\n",
    "            has_special = True\n",
    "\n",
    "    if has_digit and has_upper and has_lower and has_special:\n",
    "        print(\"✅ Strong password!\")\n",
    "    else:\n",
    "        print(\"❌ Weak password. Make sure it has:\")\n",
    "        if not has_digit:\n",
    "            print(\"- At least one digit\")\n",
    "        if not has_upper:\n",
    "            print(\"- At least one uppercase letter\")\n",
    "        if not has_lower:\n",
    "            print(\"- At least one lowercase letter\")\n",
    "        if not has_special:\n",
    "            print(\"- At least one special character\")\n",
    "else:\n",
    "    print(\"❌ Weak password. It must be at least 8 characters long.\")"
   ]
  },
  {
   "cell_type": "code",
   "execution_count": 2,
   "id": "39659c0f-d8eb-4404-90fd-a1c2fe5528e3",
   "metadata": {},
   "outputs": [],
   "source": [
    "#'''5. Traffic Light Simulation: Create a program that simulates traffic light behavior where it takes input for the light\n",
    "#color (red, yellow, green) and outputs what vehicles should do.'''"
   ]
  },
  {
   "cell_type": "code",
   "execution_count": 3,
   "id": "3687ee8c-b4b5-4c31-890e-40c5b5337d41",
   "metadata": {},
   "outputs": [
    {
     "name": "stdin",
     "output_type": "stream",
     "text": [
      "enter color- red\n"
     ]
    },
    {
     "name": "stdout",
     "output_type": "stream",
     "text": [
      "stop\n"
     ]
    }
   ],
   "source": [
    "t_color = input(\"enter color-\")\n",
    "if t_color == \"red\":\n",
    "    print(\"stop\")\n",
    "elif t_color == \"yellow\":\n",
    "    print(\"preparation to stop\")\n",
    "elif t_color == \"green\":\n",
    "    print(\"go\")\n",
    "else:\n",
    "    print(\"wrong color\")"
   ]
  },
  {
   "cell_type": "code",
   "execution_count": null,
   "id": "6773c58e-06a2-4390-a730-07633badaf37",
   "metadata": {},
   "outputs": [],
   "source": [
    "'''6. Simple Interest Calculator: Develop a program that calculates simple interest given principal amount, rate of\n",
    "interest, and time period while checking for valid input values.'''"
   ]
  },
  {
   "cell_type": "code",
   "execution_count": 4,
   "id": "cea2423d-44c6-4655-a836-8d61f7bc027b",
   "metadata": {},
   "outputs": [
    {
     "name": "stdin",
     "output_type": "stream",
     "text": [
      "enter principal amount- 10000\n",
      "enter rate of intrest in %- 12\n",
      "enter time period in years- 3\n"
     ]
    },
    {
     "name": "stdout",
     "output_type": "stream",
     "text": [
      "simple intrest is- 3600.0\n"
     ]
    }
   ],
   "source": [
    "p_amount = float(input(\"enter principal amount-\"))\n",
    "r_intrest = float(input(\"enter rate of intrest in %-\"))\n",
    "t_period = float(input(\"enter time period in years-\"))\n",
    "simple_intrest = (p_amount * r_intrest * t_period)/100\n",
    "if p_amount > r_intrest > t_period:\n",
    "    print(\"simple intrest is-\", simple_intrest)\n",
    "else:\n",
    "    print(\"invalid input\")"
   ]
  },
  {
   "cell_type": "code",
   "execution_count": null,
   "id": "cb13216e-6542-4cbc-8c35-3b78a0490770",
   "metadata": {},
   "outputs": [],
   "source": [
    "'''7. Number Range Checker: Write a program that checks if an input number falls within a specified range (e.g., 1\n",
    "to 100) and prints different messages based on where it falls.'''"
   ]
  },
  {
   "cell_type": "code",
   "execution_count": 5,
   "id": "89858f97-8400-4b88-b88f-6a68391fe3b1",
   "metadata": {},
   "outputs": [
    {
     "name": "stdin",
     "output_type": "stream",
     "text": [
      "enter number- 50\n"
     ]
    },
    {
     "name": "stdout",
     "output_type": "stream",
     "text": [
      "50 is in range of 1-100\n"
     ]
    }
   ],
   "source": [
    "num = int(input(\"enter number-\"))\n",
    "if num >= 1 and num <= 100:\n",
    "    print(num, \"is in range of 1-100\")\n",
    "else:\n",
    "    print(num, \"is not in range of 1-100\")"
   ]
  },
  {
   "cell_type": "code",
   "execution_count": null,
   "id": "efbcb4e3-fcaa-43c6-ac0d-525a150312e5",
   "metadata": {},
   "outputs": [],
   "source": [
    "'''8. Even Number Counter: Create a program that counts how many even numbers are in a list of user-inputted\n",
    "numbers until the user enters -1 to stop.'''"
   ]
  },
  {
   "cell_type": "code",
   "execution_count": 7,
   "id": "51b10110-87d6-4162-8a28-e0d82fe36d81",
   "metadata": {},
   "outputs": [
    {
     "name": "stdin",
     "output_type": "stream",
     "text": [
      "enter number- -1\n"
     ]
    },
    {
     "name": "stdout",
     "output_type": "stream",
     "text": [
      "total number of even inputs 0\n"
     ]
    }
   ],
   "source": [
    "count = 0\n",
    "while True:\n",
    "    num = int(input(\"enter number-\"))\n",
    "    if num % 2 == 0:\n",
    "        print(num, \"is even number\")\n",
    "        count += 1\n",
    "    elif num == -1:\n",
    "        print(\"total number of even inputs\", count)\n",
    "        break\n",
    "    else:\n",
    "        print(\"number is odd\")"
   ]
  },
  {
   "cell_type": "code",
   "execution_count": null,
   "id": "4a0f4c1d-687f-4fc1-9d17-8e2755bdf577",
   "metadata": {},
   "outputs": [],
   "source": [
    "'''9. Rock-Paper-Scissors Game: Implement a simple rock-paper-scissors game where the user plays against the\n",
    "computer, determining the winner based on inputs.'''"
   ]
  },
  {
   "cell_type": "code",
   "execution_count": 9,
   "id": "397eb9c0-1631-43cb-a78c-8a5c4c6ef1ed",
   "metadata": {},
   "outputs": [
    {
     "name": "stdin",
     "output_type": "stream",
     "text": [
      "user 1 2 3 go- rock\n",
      "comp 1 2 3 go- paper\n"
     ]
    },
    {
     "name": "stdout",
     "output_type": "stream",
     "text": [
      "comp wins\n"
     ]
    }
   ],
   "source": [
    "user = input(\"user 1 2 3 go-\")\n",
    "comp = input(\"comp 1 2 3 go-\")\n",
    "if user == comp:\n",
    "    print(\"repeat\")\n",
    "elif (user == \"paper\"  and comp == \"rock\") or (user == \"rock\" and comp == \"scissors\") or (user == \"scissors\" and comp == \"paper\"):\n",
    "    print(\"user wins\")\n",
    "else:\n",
    "    print(\"comp wins\")"
   ]
  },
  {
   "cell_type": "code",
   "execution_count": null,
   "id": "af092c5f-7945-4b05-856c-26de4bd5a93a",
   "metadata": {},
   "outputs": [],
   "source": [
    "'''10. Month Days Checker: Write a program that asks for a month number (1-12) and returns how many days are in\n",
    "that month, considering leap years for February.'''"
   ]
  },
  {
   "cell_type": "code",
   "execution_count": 10,
   "id": "50051f22-2cca-44e0-91cd-18138edc9696",
   "metadata": {},
   "outputs": [
    {
     "name": "stdin",
     "output_type": "stream",
     "text": [
      "enter year- 2024\n",
      "enter month number- 5\n"
     ]
    },
    {
     "name": "stdout",
     "output_type": "stream",
     "text": [
      "5 has 31 days\n"
     ]
    }
   ],
   "source": [
    "year = int(input(\"enter year-\"))\n",
    "month = int(input(\"enter month number-\"))\n",
    "if month in [1, 3, 5, 7, 8, 10, 12]:\n",
    "    print(month, \"has 31 days\")\n",
    "elif month in [4, 6, 9, 11]:\n",
    "    print(month, \"has 30 days\")\n",
    "elif (year % 4 == 0 and year % 100 != 0) or year % 400 == 0: \n",
    "    print(year, \"is leap year therefor\", month, \"has 29 days\")\n",
    "else:\n",
    "    print(year, \"is not leap year therefor\", month, \"has 28 days\")"
   ]
  },
  {
   "cell_type": "code",
   "execution_count": null,
   "id": "760dd199-e30f-4b6d-a8ad-0f6e9c79fa62",
   "metadata": {},
   "outputs": [],
   "source": [
    "'''11. Grade Point Average (GPA) Calculator: Create a program that calculates GPA based on letter grades entered\n",
    "by the user and converts them into grade points using standard values.'''"
   ]
  },
  {
   "cell_type": "code",
   "execution_count": null,
   "id": "0549378d-d463-4b7c-96d3-2cc6f5a612f9",
   "metadata": {},
   "outputs": [],
   "source": [
    "grades_input = input(\"Enter letter grades separated by spaces (A B C D F): \")\n",
    "grades_list = grades_input.split()\n",
    "grade_points_mapping = {'A': 4.0, 'B': 3.0, 'C': 2.0, 'D': 1.0, 'F': 0.0}\n",
    "total_points = sum(grade_points_mapping[grade] for grade in grades_list if grade in grade_points_mapping)\n",
    "gpa = total_points / len(grades_list)\n",
    "print(f\"Your GPA is: {gpa:.2f}\")"
   ]
  },
  {
   "cell_type": "code",
   "execution_count": null,
   "id": "03740e65-be59-4b5e-822f-7508d4444451",
   "metadata": {},
   "outputs": [],
   "source": [
    "'''Simple Voting System: Develop a voting system where users can vote for one of three candidates; ensure\n",
    "each user can only vote once by checking against previous votes stored in a list.'''"
   ]
  },
  {
   "cell_type": "code",
   "execution_count": 19,
   "id": "bf4c1853-dfae-448f-bebb-600f80087151",
   "metadata": {},
   "outputs": [
    {
     "name": "stdin",
     "output_type": "stream",
     "text": [
      "Vote for candidate A, B or C (-1 to stop):  A\n"
     ]
    },
    {
     "name": "stdout",
     "output_type": "stream",
     "text": [
      "Vote recorded for candidate A.\n"
     ]
    },
    {
     "name": "stdin",
     "output_type": "stream",
     "text": [
      "Vote for candidate A, B or C (-1 to stop):  B\n"
     ]
    },
    {
     "name": "stdout",
     "output_type": "stream",
     "text": [
      "Vote recorded for candidate B.\n"
     ]
    },
    {
     "name": "stdin",
     "output_type": "stream",
     "text": [
      "Vote for candidate A, B or C (-1 to stop):  C\n"
     ]
    },
    {
     "name": "stdout",
     "output_type": "stream",
     "text": [
      "Vote recorded for candidate C.\n"
     ]
    },
    {
     "name": "stdin",
     "output_type": "stream",
     "text": [
      "Vote for candidate A, B or C (-1 to stop):  A\n"
     ]
    },
    {
     "name": "stdout",
     "output_type": "stream",
     "text": [
      "Vote recorded for candidate A.\n"
     ]
    },
    {
     "name": "stdin",
     "output_type": "stream",
     "text": [
      "Vote for candidate A, B or C (-1 to stop):  -1\n"
     ]
    },
    {
     "name": "stdout",
     "output_type": "stream",
     "text": [
      "Vote for A  2\n",
      "Vote for B  1\n",
      "Vote for C  1\n"
     ]
    }
   ],
   "source": [
    "votes = []\n",
    "while True:\n",
    "    vote = input(\"Vote for candidate A, B or C (-1 to stop): \").upper()\n",
    "    if vote == '-1':\n",
    "        break\n",
    "    if vote in ['A', 'B', 'C']:\n",
    "        votes.append(vote)\n",
    "        print(f\"Vote recorded for candidate {vote}.\")\n",
    "    else:\n",
    "        print(\"Invalid vote! Please vote for A, B or C.\")\n",
    "# Count votes\n",
    "vote_count_A = votes.count('A')\n",
    "vote_count_B = votes.count('B')\n",
    "vote_count_C = votes.count('C')\n",
    "print(\"Vote for A \",vote_count_A)\n",
    "print(\"Vote for B \",vote_count_B)\n",
    "print(\"Vote for C \",vote_count_C)"
   ]
  },
  {
   "cell_type": "code",
   "execution_count": null,
   "id": "774051cb-49b4-4027-8ae2-15cc6be428cd",
   "metadata": {},
   "outputs": [],
   "source": [
    "\n"
   ]
  }
 ],
 "metadata": {
  "kernelspec": {
   "display_name": "Python 3 (ipykernel)",
   "language": "python",
   "name": "python3"
  },
  "language_info": {
   "codemirror_mode": {
    "name": "ipython",
    "version": 3
   },
   "file_extension": ".py",
   "mimetype": "text/x-python",
   "name": "python",
   "nbconvert_exporter": "python",
   "pygments_lexer": "ipython3",
   "version": "3.13.2"
  }
 },
 "nbformat": 4,
 "nbformat_minor": 5
}
