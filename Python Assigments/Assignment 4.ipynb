{
 "cells": [
  {
   "cell_type": "code",
   "execution_count": null,
   "id": "a7ccbd18-20d9-4741-af71-6c848e0393fc",
   "metadata": {},
   "outputs": [],
   "source": [
    "'''Question 1:\n",
    "Write a Python program that checks if a number entered by the user is even\n",
    "or odd. Print \"Even\" if the number is even and \"Odd\" if it is odd.'''"
   ]
  },
  {
   "cell_type": "code",
   "execution_count": 5,
   "id": "deceedff-51fb-47d9-b1d7-b4d3bac17556",
   "metadata": {},
   "outputs": [
    {
     "name": "stdin",
     "output_type": "stream",
     "text": [
      "enter a number 4\n"
     ]
    },
    {
     "name": "stdout",
     "output_type": "stream",
     "text": [
      "Even\n"
     ]
    }
   ],
   "source": [
    "N = int(input(\"enter a number\"))\n",
    "if N % 2 == 0:\n",
    "    print(\"Even\")\n",
    "else:\n",
    "    print(\"odd\")"
   ]
  },
  {
   "cell_type": "code",
   "execution_count": null,
   "id": "64d38b35-d245-4dcc-bc2c-a351fa04dcca",
   "metadata": {},
   "outputs": [],
   "source": [
    "'''Question 2:\n",
    "Create a program that prompts the user for their age and prints whether\n",
    "they are a child (0-12), teenager (13-19), or adult (20 and above).'''"
   ]
  },
  {
   "cell_type": "code",
   "execution_count": 6,
   "id": "f95d5a63-9c61-423d-8e4d-df9c727892e2",
   "metadata": {},
   "outputs": [
    {
     "name": "stdin",
     "output_type": "stream",
     "text": [
      "Enter your age:  19\n"
     ]
    },
    {
     "name": "stdout",
     "output_type": "stream",
     "text": [
      "Teenager\n"
     ]
    }
   ],
   "source": [
    "age = int(input(\"Enter your age: \"))\n",
    "if age <= 12:\n",
    "    print(\"Child\")\n",
    "elif age <= 19:\n",
    "    print(\"Teenager\")\n",
    "else:\n",
    "    print(\"Adult\")"
   ]
  },
  {
   "cell_type": "code",
   "execution_count": null,
   "id": "38d3ad5d-128f-43b0-9854-4ac8a34f70c3",
   "metadata": {},
   "outputs": [],
   "source": [
    "'''Question 3:\n",
    "Write a program that takes two numbers as input from the user and prints\n",
    "which number is larger. If both numbers are equal, print \"Both numbers are\n",
    "equal.\"'''"
   ]
  },
  {
   "cell_type": "code",
   "execution_count": 7,
   "id": "bb793770-bd51-44f7-bb24-21751022ac09",
   "metadata": {},
   "outputs": [
    {
     "name": "stdin",
     "output_type": "stream",
     "text": [
      "Enter the first number:  5\n",
      "Enter the second number:  50\n"
     ]
    },
    {
     "name": "stdout",
     "output_type": "stream",
     "text": [
      "50 is larger than 5\n"
     ]
    }
   ],
   "source": [
    "num1 = int(input(\"Enter the first number: \"))\n",
    "num2 = int(input(\"Enter the second number: \"))\n",
    "if num1 > num2:\n",
    "    print(num1, \"is larger than\", num2)\n",
    "elif num2 > num1:\n",
    "    print(num2, \"is larger than\", num1)\n",
    "else:\n",
    "    print(\"Both numbers are equal.\")"
   ]
  },
  {
   "cell_type": "code",
   "execution_count": null,
   "id": "674e6dd5-b7d6-414c-ae08-bbecc6bdf8ef",
   "metadata": {},
   "outputs": [],
   "source": [
    "'''Question 4:\n",
    "Create a program that checks if a user-entered password matches the\n",
    "string \"securePassword\". Print \"Access Granted\" if it matches, otherwise\n",
    "print \"Access Denied.\"'''"
   ]
  },
  {
   "cell_type": "code",
   "execution_count": 29,
   "id": "d157a66b-6ed6-4823-ad36-9fa855a63025",
   "metadata": {},
   "outputs": [
    {
     "name": "stdin",
     "output_type": "stream",
     "text": [
      "Enter your password:  vyhv\n"
     ]
    },
    {
     "name": "stdout",
     "output_type": "stream",
     "text": [
      "Access Denied\n"
     ]
    }
   ],
   "source": [
    "user_password = str(input(\"Enter your password: \"))\n",
    "correct_password = \"securePassword\"\n",
    "if user_password == correct_password:\n",
    "    print(\"Access Granted\")\n",
    "else:\n",
    "    print(\"Access Denied\")\n"
   ]
  },
  {
   "cell_type": "code",
   "execution_count": null,
   "id": "59a43523-a999-42d4-bb6d-64c6e2f27dd9",
   "metadata": {},
   "outputs": [],
   "source": [
    "'''Question 5:\n",
    "Write a program that takes a score from the user (0-100) and prints the\n",
    "corresponding grade:\n",
    "A for 90-100\n",
    "B for 80-89\n",
    "C for 70-79\n",
    "D for 60-69\n",
    "F for below 60'''"
   ]
  },
  {
   "cell_type": "code",
   "execution_count": 20,
   "id": "f2a451cc-05c5-42b8-802a-e44cbaa70347",
   "metadata": {},
   "outputs": [
    {
     "name": "stdin",
     "output_type": "stream",
     "text": [
      "enter marks 50\n"
     ]
    },
    {
     "name": "stdout",
     "output_type": "stream",
     "text": [
      "F\n"
     ]
    }
   ],
   "source": [
    "score = int(input(\"enter marks\"))\n",
    "\n",
    "if 90 <= score <= 100:\n",
    "    print(\"A\")\n",
    "elif 80 <= score <= 89:\n",
    "    print(\"B\")\n",
    "elif 70 <= score < 79:\n",
    "    print(\"C\")\n",
    "elif 60 <= score < 69:\n",
    "    print(\"D\")\n",
    "else:\n",
    "    print(\"F\")"
   ]
  },
  {
   "cell_type": "code",
   "execution_count": null,
   "id": "123c043b-58d4-4faa-b843-bf13efe1136c",
   "metadata": {},
   "outputs": [],
   "source": [
    "'''Question 6:\n",
    "Create a program that asks the user for a number and checks if it is\n",
    "positive, negative, or zero. Print the corresponding message.'''"
   ]
  },
  {
   "cell_type": "code",
   "execution_count": 21,
   "id": "85655c34-c8a4-4357-8cb1-cd0b70da535a",
   "metadata": {},
   "outputs": [
    {
     "name": "stdin",
     "output_type": "stream",
     "text": [
      "enter a number 48\n"
     ]
    },
    {
     "name": "stdout",
     "output_type": "stream",
     "text": [
      "Positive\n"
     ]
    }
   ],
   "source": [
    "N = int(input(\"enter a number\"))\n",
    "if N == 0:\n",
    "    print(\"zero\")\n",
    "elif N < 0:\n",
    "    print(\"Negative\")\n",
    "else:\n",
    "    print(\"Positive\")"
   ]
  },
  {
   "cell_type": "code",
   "execution_count": null,
   "id": "9504e0e3-1999-4d9d-af9b-4f9c042d1569",
   "metadata": {},
   "outputs": [],
   "source": [
    "'''Question 7:\n",
    "Write a program that takes three numbers from the user and determines the\n",
    "largest of the three. Print the largest number.'''"
   ]
  },
  {
   "cell_type": "code",
   "execution_count": 31,
   "id": "0546697a-3c9f-4146-be86-acd7bccb8cd7",
   "metadata": {},
   "outputs": [
    {
     "name": "stdin",
     "output_type": "stream",
     "text": [
      "Enter the first number:  454\n",
      "Enter the second number:  59\n",
      "Enter the third number:  49\n"
     ]
    },
    {
     "name": "stdout",
     "output_type": "stream",
     "text": [
      "454 is greater\n"
     ]
    }
   ],
   "source": [
    "a = int(input(\"Enter the first number: \"))\n",
    "b = int(input(\"Enter the second number: \"))\n",
    "c = int(input(\"Enter the third number: \"))\n",
    "if a>b and a>c:\n",
    "    print (a,\"is greater\")\n",
    "elif b>a and b>c:\n",
    "    print (b,\"is greater\")\n",
    "else:\n",
    "    print (c,\"is greater\")"
   ]
  },
  {
   "cell_type": "code",
   "execution_count": null,
   "id": "18cfb3bf-9b1a-4c4b-8bec-a379cdf186c2",
   "metadata": {},
   "outputs": [],
   "source": [
    "'''Question 8:\n",
    "Create a program that checks if a user-entered character is a vowel (a, e, i,\n",
    "o, u) or a consonant. Print the corresponding message.'''"
   ]
  },
  {
   "cell_type": "code",
   "execution_count": 42,
   "id": "1e7bb936-f871-41e5-a4e3-82c51bbe1dba",
   "metadata": {},
   "outputs": [
    {
     "name": "stdin",
     "output_type": "stream",
     "text": [
      "Enter character: o\n"
     ]
    },
    {
     "name": "stdout",
     "output_type": "stream",
     "text": [
      "o is vowel\n"
     ]
    }
   ],
   "source": [
    "character = str(input(\"Enter character:\"))\n",
    "if character in (\"a\",\"e\",\"i\", \"o\",\"u\"):\n",
    "    print(character,\"is vowel\")\n",
    "else:\n",
    "    print(character,\"is consonant\")"
   ]
  },
  {
   "cell_type": "code",
   "execution_count": null,
   "id": "6efea1cf-8b34-4f19-8ef3-ba533f9a7958",
   "metadata": {},
   "outputs": [],
   "source": [
    "'''Question 9:\n",
    "Write a program that checks if a given year is a leap year. A year is a leap\n",
    "year if it is divisible by 4, except for years that are divisible by 100 but not\n",
    "divisible by 400.'''"
   ]
  },
  {
   "cell_type": "code",
   "execution_count": 39,
   "id": "b9e412fa-db2b-484d-89f4-b4038bfaa670",
   "metadata": {},
   "outputs": [
    {
     "name": "stdin",
     "output_type": "stream",
     "text": [
      "Enter year: 2024\n"
     ]
    },
    {
     "name": "stdout",
     "output_type": "stream",
     "text": [
      "This is leap year\n"
     ]
    }
   ],
   "source": [
    "year= int(input(\"Enter year:\"))\n",
    "if year%4==0 or (year%100==0 and year%400!=0):\n",
    "    print(\"This is leap year\")\n",
    "else:\n",
    "    print(\"This is not leap year\")"
   ]
  },
  {
   "cell_type": "code",
   "execution_count": null,
   "id": "0fab9c58-e34f-4474-98f2-184ebe20040a",
   "metadata": {},
   "outputs": [],
   "source": [
    "'''Question 10:\n",
    "Create a program that prompts the user for a temperature in Celsius and\n",
    "converts it to Fahrenheit. If the converted temperature is greater than 100°F,\n",
    "print \"It's boiling!\" Otherwise, print \"It's not boiling yet.\"'''"
   ]
  },
  {
   "cell_type": "code",
   "execution_count": 37,
   "id": "d2d88054-2271-40fd-b6da-511ce6523bd6",
   "metadata": {},
   "outputs": [
    {
     "name": "stdin",
     "output_type": "stream",
     "text": [
      "Enter the temperature(°C): 9\n"
     ]
    },
    {
     "name": "stdout",
     "output_type": "stream",
     "text": [
      "It's not boiling yet.\n"
     ]
    }
   ],
   "source": [
    "temp= int(input(\"Enter the temperature(°C):\"))\n",
    "cal_temp= (temp * 9/5) + 32\n",
    "if cal_temp >100:\n",
    "    print(\"It is boiling\")\n",
    "else:\n",
    "    print(\"It's not boiling yet.\")"
   ]
  },
  {
   "cell_type": "code",
   "execution_count": null,
   "id": "4c38d5a6-02dd-48d0-9acc-ea847b900084",
   "metadata": {},
   "outputs": [],
   "source": []
  }
 ],
 "metadata": {
  "kernelspec": {
   "display_name": "Python 3 (ipykernel)",
   "language": "python",
   "name": "python3"
  },
  "language_info": {
   "codemirror_mode": {
    "name": "ipython",
    "version": 3
   },
   "file_extension": ".py",
   "mimetype": "text/x-python",
   "name": "python",
   "nbconvert_exporter": "python",
   "pygments_lexer": "ipython3",
   "version": "3.13.2"
  }
 },
 "nbformat": 4,
 "nbformat_minor": 5
}
