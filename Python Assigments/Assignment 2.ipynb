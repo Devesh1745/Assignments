{
 "cells": [
  {
   "cell_type": "code",
   "execution_count": null,
   "id": "408ef152-bd40-4ecb-bc3f-801072d544db",
   "metadata": {},
   "outputs": [],
   "source": [
    "'''Question 1:\n",
    "Create a variable age and assign it the value 25 . Then print the value of\n",
    "age along with its data type using the type() function.'''"
   ]
  },
  {
   "cell_type": "code",
   "execution_count": 5,
   "id": "d5eead36-dcb0-4d9a-a8e4-fbbe9a309f2a",
   "metadata": {},
   "outputs": [
    {
     "name": "stdout",
     "output_type": "stream",
     "text": [
      "24 Type: <class 'int'>\n"
     ]
    }
   ],
   "source": [
    "age = 24\n",
    "print (age,\"Type:\",type(age))\n"
   ]
  },
  {
   "cell_type": "code",
   "execution_count": 4,
   "id": "1a970b7d-5eee-4729-b2a4-a3b911de7a42",
   "metadata": {},
   "outputs": [
    {
     "data": {
      "text/plain": [
       "'Question 2:\\nAssign the number 12.5 to a variable price . Print both the variable and its\\ndata type. Then assign the value 12 to the same variable and print its data\\ntype again. What do you observe?'"
      ]
     },
     "execution_count": 4,
     "metadata": {},
     "output_type": "execute_result"
    }
   ],
   "source": [
    "'''Question 2:\n",
    "Assign the number 12.5 to a variable price . Print both the variable and its\n",
    "data type. Then assign the value 12 to the same variable and print its data\n",
    "type again. What do you observe?'''"
   ]
  },
  {
   "cell_type": "code",
   "execution_count": 5,
   "id": "354fc85b-8813-414c-bdad-4998c2c607ad",
   "metadata": {},
   "outputs": [
    {
     "name": "stdout",
     "output_type": "stream",
     "text": [
      "12.5 Type: <class 'float'>\n",
      "12 Type: <class 'int'>\n"
     ]
    }
   ],
   "source": [
    "price = 12.5 \n",
    "print( price, \"Type:\", type(price))\n",
    "\n",
    "price = 12\n",
    "print( price, \"Type:\", type(price)) "
   ]
  },
  {
   "cell_type": "code",
   "execution_count": null,
   "id": "30880518-4770-4c9b-b367-1bc738361fd8",
   "metadata": {},
   "outputs": [],
   "source": [
    "'''Question 3:\n",
    "Create a variable is_raining and set it to True . Print the value of the variable\n",
    "along with its type. Then set is_raining to False and print the new value and\n",
    "type.'''"
   ]
  },
  {
   "cell_type": "code",
   "execution_count": 10,
   "id": "ff7dc752-a2d7-4bf4-b866-b81761b1cd8f",
   "metadata": {},
   "outputs": [
    {
     "name": "stdout",
     "output_type": "stream",
     "text": [
      "True Type: <class 'bool'>\n",
      "False Type: <class 'bool'>\n"
     ]
    }
   ],
   "source": [
    "is_raining = True \n",
    "print( is_raining, \"Type:\", type(is_raining))\n",
    "\n",
    "is_raining = False\n",
    "print( is_raining, \"Type:\", type(is_raining))"
   ]
  },
  {
   "cell_type": "code",
   "execution_count": null,
   "id": "a92b12a2-3f9d-4e4a-844b-9ef419911bcc",
   "metadata": {},
   "outputs": [],
   "source": [
    "'''Question 4:\n",
    "Create a variable my_name and store your full name in it as a string. Then\n",
    "print the value of my_name using single quotes ' .'''"
   ]
  },
  {
   "cell_type": "code",
   "execution_count": 13,
   "id": "9a327132-4322-415f-9132-77121e4344a8",
   "metadata": {},
   "outputs": [
    {
     "name": "stdout",
     "output_type": "stream",
     "text": [
      "' Devesh Chaudhari '\n"
     ]
    }
   ],
   "source": [
    "my_name = \"Devesh Chaudhari\"\n",
    "print (\"'\",my_name,\"'\")"
   ]
  },
  {
   "cell_type": "code",
   "execution_count": null,
   "id": "ab399bcd-876c-4b4e-981f-338be481cddb",
   "metadata": {},
   "outputs": [],
   "source": [
    "'''Question 5:\n",
    "Write a Python program that asks the user for their name and age using the\n",
    "input() function. Store the inputs in variables and print a sentence like\n",
    "\"Hello, [Name]! You are [Age] years old.\" Ensure you cast the age to an\n",
    "integer.'''"
   ]
  },
  {
   "cell_type": "code",
   "execution_count": 26,
   "id": "80806be3-952d-4031-88b0-a36dcccc5f20",
   "metadata": {},
   "outputs": [
    {
     "name": "stdin",
     "output_type": "stream",
     "text": [
      "Enter your Name Devesh\n",
      "Enter your Age 24\n"
     ]
    },
    {
     "name": "stdout",
     "output_type": "stream",
     "text": [
      "Hello! Devesh You are 24 years old\n"
     ]
    }
   ],
   "source": [
    "name = input(\"Enter your Name\")\n",
    "age = int(input(\"Enter your Age\"))\n",
    "print (\"Hello!\", name,\"You are\",age,\"years old\" )"
   ]
  },
  {
   "cell_type": "code",
   "execution_count": null,
   "id": "5706d322-7fc6-4dea-9814-5124f644e5ef",
   "metadata": {},
   "outputs": [],
   "source": [
    "'''Question 6:\n",
    "Create two variables x and y and assign them the values 10 and 3.5 ,\n",
    "respectively. Print their values and types. Then, create a new variable\n",
    "sum_xy and store the sum of x and y . Print the result and its type.'''"
   ]
  },
  {
   "cell_type": "code",
   "execution_count": 31,
   "id": "dd0b04cc-b6bc-42ac-8954-924ff27c99fe",
   "metadata": {},
   "outputs": [
    {
     "name": "stdout",
     "output_type": "stream",
     "text": [
      "10 Type: <class 'int'>\n",
      "3.5 Type: <class 'float'>\n",
      "13.5 Type: <class 'float'>\n"
     ]
    }
   ],
   "source": [
    "x = 10\n",
    "y = 3.5\n",
    "print (x,\"Type:\",type(x))\n",
    "print (y,\"Type:\",type(y))\n",
    "sum_xy = x+y\n",
    "print(sum_xy,\"Type:\",type(sum_xy))\n"
   ]
  },
  {
   "cell_type": "code",
   "execution_count": null,
   "id": "ab64318e-23d8-49e8-9936-4d5a67a78ea6",
   "metadata": {},
   "outputs": [],
   "source": [
    "'''Question 7:\n",
    "Using the type() function, check and print the data type of the following:\n",
    "45.0\n",
    "\"hello\"\n",
    "None\n",
    "False'''"
   ]
  },
  {
   "cell_type": "code",
   "execution_count": 62,
   "id": "aefb6b61-0521-4f1c-8d88-d473a7832a84",
   "metadata": {},
   "outputs": [
    {
     "name": "stdout",
     "output_type": "stream",
     "text": [
      "45.0 Datatype of 45.0 is: <class 'float'>\n",
      "hello Datatype of hello is: <class 'str'>\n",
      "None Datatype of None is: <class 'NoneType'>\n",
      "False Datatype of False is: <class 'bool'>\n"
     ]
    }
   ],
   "source": [
    "print(45.0,\"Datatype of 45.0 is:\", type(45.0))\n",
    "print(\"hello\",\"Datatype of hello is:\",type(\"hello\"))\n",
    "print(None,\"Datatype of None is:\",type(None))\n",
    "print(False,\"Datatype of False is:\",type(False))\n"
   ]
  },
  {
   "cell_type": "code",
   "execution_count": null,
   "id": "21ffce42-ce2a-4998-b7bc-ed3ceb0f4c54",
   "metadata": {},
   "outputs": [],
   "source": [
    "'''Question 8:\n",
    "Write a Python program to print three strings \"apple\" , \"banana\" , and \"cherry\"\n",
    "on the same line, separated by a space. Then modify the program to\n",
    "separate the strings using a comma , instead of a space.'''"
   ]
  },
  {
   "cell_type": "code",
   "execution_count": 56,
   "id": "cf57d372-d05e-4205-b81a-a879933403ce",
   "metadata": {},
   "outputs": [
    {
     "name": "stdout",
     "output_type": "stream",
     "text": [
      "Apple, Banana, Cherry\n"
     ]
    }
   ],
   "source": [
    "fruits = (\"Apple\",\"Banana\",\"Cherry\")\n",
    "print (\"Apple,\",\"Banana,\",\"Cherry\")"
   ]
  },
  {
   "cell_type": "code",
   "execution_count": null,
   "id": "f7c9aa97-34b0-4790-8a11-cbdc6e52d8d2",
   "metadata": {},
   "outputs": [],
   "source": [
    "'''Question 9: Create a variable big_number and assign it a very large integer value (e.g.,\n",
    "987654321987654321 ). Print the value and its type. What do you notice about\n",
    "the size of the number?'''"
   ]
  },
  {
   "cell_type": "code",
   "execution_count": 57,
   "id": "1c8b0ea6-d8c9-4155-b711-575033f2b2d4",
   "metadata": {},
   "outputs": [
    {
     "name": "stdout",
     "output_type": "stream",
     "text": [
      "987654321987654321\n",
      "<class 'int'>\n"
     ]
    }
   ],
   "source": [
    "big_number = 987654321987654321\n",
    "print(big_number)\n",
    "print(type(big_number))"
   ]
  },
  {
   "cell_type": "code",
   "execution_count": null,
   "id": "c7341309-262b-4214-a980-0df0b4b2106a",
   "metadata": {},
   "outputs": [],
   "source": [
    "'''Question 10. Write a Python program that prints the result of multiplying two floats (e.g.,\n",
    "2.5 and 3.7 ). Then check and print the data type of the result.'''"
   ]
  },
  {
   "cell_type": "code",
   "execution_count": 61,
   "id": "94861b9c-e621-4fba-89d5-46ec4436dba8",
   "metadata": {},
   "outputs": [
    {
     "name": "stdout",
     "output_type": "stream",
     "text": [
      "9.25\n",
      "Data type : <class 'float'>\n"
     ]
    }
   ],
   "source": [
    "num1 = 2.5\n",
    "num2 = 3.7\n",
    "result = num1 * num2\n",
    "print(result)\n",
    "print(\"Data type :\", type(result))\n"
   ]
  },
  {
   "cell_type": "code",
   "execution_count": null,
   "id": "97a3b624-6188-4959-8c55-4e9b3578722f",
   "metadata": {},
   "outputs": [],
   "source": []
  }
 ],
 "metadata": {
  "kernelspec": {
   "display_name": "Python 3 (ipykernel)",
   "language": "python",
   "name": "python3"
  },
  "language_info": {
   "codemirror_mode": {
    "name": "ipython",
    "version": 3
   },
   "file_extension": ".py",
   "mimetype": "text/x-python",
   "name": "python",
   "nbconvert_exporter": "python",
   "pygments_lexer": "ipython3",
   "version": "3.13.2"
  }
 },
 "nbformat": 4,
 "nbformat_minor": 5
}
