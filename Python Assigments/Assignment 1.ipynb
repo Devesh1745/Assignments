{
 "cells": [
  {
   "cell_type": "code",
   "execution_count": null,
   "id": "29ab2b2a-de2a-4201-b13b-a179eeeeb32c",
   "metadata": {},
   "outputs": [],
   "source": [
    "'''\n",
    "Q1.Write a Python program to print your name and favourite colour on two.\n",
    "separate lines.\n",
    "'''"
   ]
  },
  {
   "cell_type": "code",
   "execution_count": 1,
   "id": "d8dff87e-601a-4086-82e5-495bd7f3b8e2",
   "metadata": {},
   "outputs": [
    {
     "name": "stdout",
     "output_type": "stream",
     "text": [
      "DEVESH \n",
      "BLACK & WHITE\n"
     ]
    }
   ],
   "source": [
    "print(\"DEVESH \\nBLACK & WHITE\")"
   ]
  },
  {
   "cell_type": "code",
   "execution_count": null,
   "id": "8320c32d-c7dd-428b-856e-c70d50d47181",
   "metadata": {},
   "outputs": [],
   "source": [
    "# Q2. Write a Python program that prints the result of adding 7 and 8."
   ]
  },
  {
   "cell_type": "code",
   "execution_count": 2,
   "id": "96bf1ed7-eb5c-493a-a31a-e0fbf8bd3d8d",
   "metadata": {},
   "outputs": [
    {
     "data": {
      "text/plain": [
       "15"
      ]
     },
     "execution_count": 2,
     "metadata": {},
     "output_type": "execute_result"
    }
   ],
   "source": [
    "7+8"
   ]
  },
  {
   "cell_type": "code",
   "execution_count": null,
   "id": "83affd41-0014-4f0d-9560-4622955752e1",
   "metadata": {},
   "outputs": [],
   "source": [
    "#Q3. Use the print function to display the following text exactly as it is:"
   ]
  },
  {
   "cell_type": "code",
   "execution_count": 6,
   "id": "df0c66f9-78bc-4952-8a66-f715c71d6f38",
   "metadata": {},
   "outputs": [
    {
     "name": "stdout",
     "output_type": "stream",
     "text": [
      "Python is fun!\n",
      "Let's learn together.\n"
     ]
    }
   ],
   "source": [
    "print(\"\"\"Python is fun!\n",
    "Let's learn together.\"\"\")"
   ]
  },
  {
   "cell_type": "code",
   "execution_count": null,
   "id": "47abe011-3025-4d0b-8618-80ac2c96a322",
   "metadata": {},
   "outputs": [],
   "source": [
    "'''Q4. Write a Python program to calculate and print the result of multiplying 6 by\n",
    "9.'''"
   ]
  },
  {
   "cell_type": "code",
   "execution_count": 7,
   "id": "217a06c5-865c-46d7-8956-e035eaed4db6",
   "metadata": {},
   "outputs": [
    {
     "data": {
      "text/plain": [
       "54"
      ]
     },
     "execution_count": 7,
     "metadata": {},
     "output_type": "execute_result"
    }
   ],
   "source": [
    "6*9"
   ]
  },
  {
   "cell_type": "code",
   "execution_count": null,
   "id": "1cbd1d77-6ba5-4e70-b253-68a1081f289e",
   "metadata": {},
   "outputs": [],
   "source": [
    "'''Q5. Write a Python program that prints the result of adding 5 + 5 and\n",
    "multiplying 2 * 3 in a single line of code.,,,"
   ]
  },
  {
   "cell_type": "code",
   "execution_count": 8,
   "id": "c2348a14-f8b2-4ec7-8b09-5a8898bc100c",
   "metadata": {},
   "outputs": [
    {
     "data": {
      "text/plain": [
       "(10, 6)"
      ]
     },
     "execution_count": 8,
     "metadata": {},
     "output_type": "execute_result"
    }
   ],
   "source": [
    "5+5,2*3"
   ]
  },
  {
   "cell_type": "code",
   "execution_count": null,
   "id": "a8af793a-76fb-4153-9d41-3c4822a0eebc",
   "metadata": {},
   "outputs": [],
   "source": [
    "'''A. Take the name A as input from the user and print \"Hello A\", where A is\n",
    "the name in input.'''"
   ]
  },
  {
   "cell_type": "code",
   "execution_count": 9,
   "id": "216f8c0a-56fb-445a-a34a-55348a4b08af",
   "metadata": {},
   "outputs": [
    {
     "name": "stdin",
     "output_type": "stream",
     "text": [
      "Enter your name:  A\n"
     ]
    },
    {
     "name": "stdout",
     "output_type": "stream",
     "text": [
      "Hello A\n"
     ]
    }
   ],
   "source": [
    "name = input(\"Enter your name: \")\n",
    "print(\"Hello \" + name)"
   ]
  },
  {
   "cell_type": "code",
   "execution_count": null,
   "id": "77bc7de4-ab1f-484d-b1d6-0e15aa051922",
   "metadata": {},
   "outputs": [],
   "source": [
    "'''B. You have x rupees in your savings. You google pay y rupees, print your\n",
    "bank balance'''"
   ]
  },
  {
   "cell_type": "code",
   "execution_count": 12,
   "id": "60304e3c-0298-45b1-91a0-198141227689",
   "metadata": {},
   "outputs": [
    {
     "name": "stdout",
     "output_type": "stream",
     "text": [
      "960\n"
     ]
    }
   ],
   "source": [
    "balance = 1000\n",
    "gpay = 40\n",
    "balance = balance- gpay\n",
    "print(balance)"
   ]
  },
  {
   "cell_type": "code",
   "execution_count": null,
   "id": "702af772-2a0a-4ab0-8302-8d33b0a47fd4",
   "metadata": {},
   "outputs": [],
   "source": [
    "'''C. Print the first five letters of the English alphabet i.e. A, B, C, D and E.\n",
    "one below each other'''"
   ]
  },
  {
   "cell_type": "code",
   "execution_count": 16,
   "id": "3d52dc70-261d-4d3f-a1ff-a10dfbac41f0",
   "metadata": {},
   "outputs": [
    {
     "name": "stdout",
     "output_type": "stream",
     "text": [
      "A \n",
      "B \n",
      "C \n",
      "D \n",
      "E\n"
     ]
    }
   ],
   "source": [
    "print(\"A \\nB \\nC \\nD \\nE\")"
   ]
  },
  {
   "cell_type": "code",
   "execution_count": null,
   "id": "5321a039-20a8-40a4-9bbb-6501b545026f",
   "metadata": {},
   "outputs": [],
   "source": [
    "''' D. Take two names A and B as input from the user, and print \"A says Hi to\n",
    "B\" (Without quotations), where A and B are the names in input.'''"
   ]
  },
  {
   "cell_type": "code",
   "execution_count": 17,
   "id": "62859119-d177-421f-a0b4-f2d7bedd376c",
   "metadata": {},
   "outputs": [
    {
     "name": "stdin",
     "output_type": "stream",
     "text": [
      "Enter your name:  A\n",
      "Enter your name:  B\n"
     ]
    },
    {
     "name": "stdout",
     "output_type": "stream",
     "text": [
      "A says hi to B\n"
     ]
    }
   ],
   "source": [
    "name1 = input(\"Enter your name: \")\n",
    "name2 = input(\"Enter your name: \")\n",
    "print (name1,\"says hi to\",name2)"
   ]
  },
  {
   "cell_type": "code",
   "execution_count": null,
   "id": "1c478ce7-342c-4a63-87ea-a2ab76a5e6a8",
   "metadata": {},
   "outputs": [],
   "source": []
  }
 ],
 "metadata": {
  "kernelspec": {
   "display_name": "Python 3 (ipykernel)",
   "language": "python",
   "name": "python3"
  },
  "language_info": {
   "codemirror_mode": {
    "name": "ipython",
    "version": 3
   },
   "file_extension": ".py",
   "mimetype": "text/x-python",
   "name": "python",
   "nbconvert_exporter": "python",
   "pygments_lexer": "ipython3",
   "version": "3.13.2"
  }
 },
 "nbformat": 4,
 "nbformat_minor": 5
}
