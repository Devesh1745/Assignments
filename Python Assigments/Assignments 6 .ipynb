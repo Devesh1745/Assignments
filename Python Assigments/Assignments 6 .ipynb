{
 "cells": [
  {
   "cell_type": "markdown",
   "id": "bf09d6a8-3c89-4833-98ef-f4af09dde308",
   "metadata": {},
   "source": [
    "## 1. Short Answer Questions"
   ]
  },
  {
   "cell_type": "markdown",
   "id": "dc07eb17-8d10-49fd-b6d4-f08fa1b109b9",
   "metadata": {},
   "source": [
    "#### Q1. Explain the difference between def statements and lambda expressions. Give an example of each."
   ]
  },
  {
   "cell_type": "code",
   "execution_count": 2,
   "id": "b02df41a-2700-4f75-aef7-feb12f311445",
   "metadata": {},
   "outputs": [],
   "source": [
    "# A def statement is used to define a regular function with a name and possibly multiple lines of code\n",
    "#A lambda expression is used to create an anonymous (unnamed) function in a single line"
   ]
  },
  {
   "cell_type": "code",
   "execution_count": 3,
   "id": "66dd9145-a611-4891-99d5-14e4165f907f",
   "metadata": {},
   "outputs": [
    {
     "data": {
      "text/plain": [
       "5"
      ]
     },
     "execution_count": 3,
     "metadata": {},
     "output_type": "execute_result"
    }
   ],
   "source": [
    "def add(a, b):\n",
    "    return a + b\n",
    "add(2, 3)"
   ]
  },
  {
   "cell_type": "markdown",
   "id": "fe556be2-7c9a-4770-b432-a1c9a895993b",
   "metadata": {},
   "source": [
    "#### Q2. List and explain three benefits of using lambda expressions."
   ]
  },
  {
   "cell_type": "code",
   "execution_count": 4,
   "id": "7f79db60-7e3e-4e6d-8dc5-39c28ff26b6e",
   "metadata": {},
   "outputs": [],
   "source": [
    "#1 Concise and Short Syntax\n",
    "#  Lambda expressions allow you to write small functions in a single line. This is helpful when you need a simple function for a short task\n",
    "#2 Used as Anonymous Functions\n",
    "#  Lambdas do not need a name, so they are useful when you don’t want to create a separate function with def They are commonly used inside functions like map(), filter(), and sorted().\n",
    "#3 Improves Code Readability in Simple Cases\n",
    "#  When used correctly, lambda expressions can make the code more readable by keeping simple logic close to where it is used"
   ]
  },
  {
   "cell_type": "markdown",
   "id": "c4080617-cc0c-446f-981d-4f67ccb761b5",
   "metadata": {},
   "source": [
    "#### Q3. Compare map(), filter(), and reduce() with one-line examples using a lambda function and a list."
   ]
  },
  {
   "cell_type": "code",
   "execution_count": 5,
   "id": "ab066764-e48b-46bc-8f5c-f2bb8fd17667",
   "metadata": {},
   "outputs": [
    {
     "data": {
      "text/plain": [
       "10"
      ]
     },
     "execution_count": 5,
     "metadata": {},
     "output_type": "execute_result"
    }
   ],
   "source": [
    "# map\n",
    "list(map(lambda x: x * 2, [1, 2, 3, 4])) #  Doubles each element in the list.\n",
    "[2, 4, 6, 8] "
   ]
  },
  {
   "cell_type": "code",
   "execution_count": 6,
   "id": "440070fa-e332-4cea-b2de-dfd161f6acfb",
   "metadata": {},
   "outputs": [
    {
     "data": {
      "text/plain": [
       "[2, 4]"
      ]
     },
     "execution_count": 6,
     "metadata": {},
     "output_type": "execute_result"
    }
   ],
   "source": [
    "# filter\n",
    "list(filter(lambda x: x % 2 == 0, [1, 2, 3, 4])) #  Keeps only the even numbers.\n",
    "[2, 4]"
   ]
  },
  {
   "cell_type": "code",
   "execution_count": 7,
   "id": "aecd646c-1034-4454-b82d-161c8def2e44",
   "metadata": {},
   "outputs": [
    {
     "data": {
      "text/plain": [
       "10"
      ]
     },
     "execution_count": 7,
     "metadata": {},
     "output_type": "execute_result"
    }
   ],
   "source": [
    "# reduce\n",
    "from functools import reduce\n",
    "reduce(lambda x, y: x + y, [1, 2, 3, 4]) # Sums up all the elements"
   ]
  },
  {
   "cell_type": "markdown",
   "id": "c0240c0e-0671-4f8d-800d-13f65336b21b",
   "metadata": {},
   "source": [
    "#### Q4. What are function annotations in Python? Write a function that uses them.\n"
   ]
  },
  {
   "cell_type": "code",
   "execution_count": 8,
   "id": "abc074bb-6b7e-436c-b691-7a9cd1a10ac3",
   "metadata": {},
   "outputs": [],
   "source": [
    "# Function annotations in Python are a way to add metadata about the types of parameters and the return value of a function.\n",
    "#These annotations are not enforced by Python but can help with code clarity, documentation, and static type checking"
   ]
  },
  {
   "cell_type": "code",
   "execution_count": 11,
   "id": "32b212f6-c290-4907-9eea-5bd3b39d5844",
   "metadata": {},
   "outputs": [],
   "source": [
    "def D(name: str, age: int) -> str:\n",
    "    return f\"Hello, {name}! You are {age} years old.\""
   ]
  },
  {
   "cell_type": "code",
   "execution_count": 12,
   "id": "ed24cff6-8856-468d-94f2-6c80cf6b7b80",
   "metadata": {},
   "outputs": [
    {
     "data": {
      "text/plain": [
       "'Hello, Devesh! You are 24 years old.'"
      ]
     },
     "execution_count": 12,
     "metadata": {},
     "output_type": "execute_result"
    }
   ],
   "source": [
    "D(\"Devesh\",24)"
   ]
  },
  {
   "cell_type": "markdown",
   "id": "a750ba04-25ae-4125-a775-f0b2a14079e8",
   "metadata": {},
   "source": [
    "#### Q5. What is a recursive function? Write a simple recursive function to calculate the factorial of a number."
   ]
  },
  {
   "cell_type": "code",
   "execution_count": 13,
   "id": "30161057-b101-4660-bb02-0434e6c9c276",
   "metadata": {},
   "outputs": [],
   "source": [
    "#A recursive function is a function that calls itself to solve smaller parts of the same problem. It has two main parts\n",
    "#Base Case – the condition that stops the recursion\n",
    "#Recursive Case – the function keeps calling itself with smaller values"
   ]
  },
  {
   "cell_type": "code",
   "execution_count": 18,
   "id": "7456df88-b023-42bd-a795-a88fdce544a6",
   "metadata": {},
   "outputs": [],
   "source": [
    "def fact(n: int) -> int:\n",
    "    if n == 0 or n == 1:       # Base case\n",
    "        return 1\n",
    "    else:\n",
    "        return n * fact(n - 1)   # Recursive case"
   ]
  },
  {
   "cell_type": "code",
   "execution_count": 19,
   "id": "dea8713f-4330-4cf5-ab1b-48caf8061530",
   "metadata": {},
   "outputs": [
    {
     "data": {
      "text/plain": [
       "120"
      ]
     },
     "execution_count": 19,
     "metadata": {},
     "output_type": "execute_result"
    }
   ],
   "source": [
    "fact(5)"
   ]
  },
  {
   "cell_type": "markdown",
   "id": "3ae299dc-f8c0-481b-bd65-ea9897b66c2c",
   "metadata": {},
   "source": [
    "#### Q6. State five design guidelines you should follow while writing functions in Python"
   ]
  },
  {
   "cell_type": "code",
   "execution_count": 20,
   "id": "8e12941f-6d90-4d7e-ac07-ee024e4ea034",
   "metadata": {},
   "outputs": [],
   "source": [
    "#Use clear and descriptive function names that explain what the function does.\n",
    "#Keep functions small and focused on a single task or responsibility.\n",
    "#Use meaningful parameter names and provide default values where appropriate.\n",
    "#Include docstrings to describe the purpose, inputs, and outputs of the function.\n",
    "#Avoid using global variables inside functions; use parameters and return values to pass data instead"
   ]
  },
  {
   "cell_type": "code",
   "execution_count": 21,
   "id": "fca1d807-c27b-4c62-b799-0a9006a1457b",
   "metadata": {},
   "outputs": [],
   "source": [
    "#Use Return Statements to Send Results\n",
    "def add(a, b):\n",
    "    return a + b"
   ]
  },
  {
   "cell_type": "code",
   "execution_count": 22,
   "id": "4263ed3d-361f-4f87-800f-04d04b1139dc",
   "metadata": {},
   "outputs": [
    {
     "data": {
      "text/plain": [
       "30"
      ]
     },
     "execution_count": 22,
     "metadata": {},
     "output_type": "execute_result"
    }
   ],
   "source": [
    "add(10,20)"
   ]
  },
  {
   "cell_type": "markdown",
   "id": "c60f5db1-284b-4c3f-b918-5a8c620a7efb",
   "metadata": {},
   "source": [
    "#### Q7. Name at least three ways a function can communicate results to a caller and briefly explain each."
   ]
  },
  {
   "cell_type": "code",
   "execution_count": 23,
   "id": "78cb946f-0424-41e9-b2a3-b17b58e0f3cc",
   "metadata": {},
   "outputs": [],
   "source": [
    "#Return Statement\n",
    "#The most direct and common way\n",
    "#The function returns a value using the return keyword\n",
    "#This value can be stored or used by the caller"
   ]
  },
  {
   "cell_type": "code",
   "execution_count": 24,
   "id": "99ed8227-afff-4a42-9543-83f6f92901d9",
   "metadata": {},
   "outputs": [],
   "source": [
    "#Modifying Mutable Objects\n",
    "#If a function receives a mutable object, it can modify it directly\n",
    "#Changes will be visible outside the function"
   ]
  },
  {
   "cell_type": "code",
   "execution_count": 25,
   "id": "36bd09d7-04c5-44db-86e7-b6d715999033",
   "metadata": {},
   "outputs": [],
   "source": [
    "#Using Global Variables \n",
    "#A function can access and modify a global variable\n",
    "#This is not recommended because it can make code harder to understand and debug"
   ]
  },
  {
   "cell_type": "markdown",
   "id": "43d96306-3803-42a7-a608-1abcf23830b7",
   "metadata": {},
   "source": [
    "### 2. Coding Tasks"
   ]
  },
  {
   "cell_type": "code",
   "execution_count": 26,
   "id": "1562bed4-7127-4330-87d2-7753165776b8",
   "metadata": {},
   "outputs": [],
   "source": [
    "#Task 1\n",
    "# Q.Write a lambda function that takes two numbers and returns their product. Assign it to a variable and call it with 5 and 7."
   ]
  },
  {
   "cell_type": "code",
   "execution_count": 27,
   "id": "1c136209-883c-42f0-8faa-d2ea9d52942e",
   "metadata": {},
   "outputs": [],
   "source": [
    "multiply = lambda a, b: a * b"
   ]
  },
  {
   "cell_type": "code",
   "execution_count": 28,
   "id": "779fa730-81df-4995-94a9-df85bf7b1f7e",
   "metadata": {},
   "outputs": [
    {
     "data": {
      "text/plain": [
       "35"
      ]
     },
     "execution_count": 28,
     "metadata": {},
     "output_type": "execute_result"
    }
   ],
   "source": [
    "multiply(7,5)"
   ]
  },
  {
   "cell_type": "code",
   "execution_count": 29,
   "id": "940bc39d-1f8d-44e8-a210-5e63bdd03173",
   "metadata": {},
   "outputs": [],
   "source": [
    "# Task 2\n",
    "# Q.Use map() to square every number in a list [1, 2, 3, 4, 5]."
   ]
  },
  {
   "cell_type": "code",
   "execution_count": 30,
   "id": "6718f4e1-7ff2-4255-b9ae-b3dd0cbf49c1",
   "metadata": {},
   "outputs": [],
   "source": [
    "numbers = [1, 2, 3, 4, 5]\n",
    "squared_num = list(map(lambda x: x ** 2, numbers))"
   ]
  },
  {
   "cell_type": "code",
   "execution_count": 31,
   "id": "ce10bc14-371d-442c-8b4b-614c23b8bba6",
   "metadata": {},
   "outputs": [
    {
     "data": {
      "text/plain": [
       "[1, 4, 9, 16, 25]"
      ]
     },
     "execution_count": 31,
     "metadata": {},
     "output_type": "execute_result"
    }
   ],
   "source": [
    "squared_num"
   ]
  },
  {
   "cell_type": "code",
   "execution_count": 32,
   "id": "a2a690ea-72dd-4f8f-8433-e71190e4162c",
   "metadata": {},
   "outputs": [],
   "source": [
    "# Task 3\n",
    "# Q.Use filter() to extract only the even numbers from the list [10, 15, 20, 25, 30]."
   ]
  },
  {
   "cell_type": "code",
   "execution_count": 33,
   "id": "e9223b5e-664a-4a01-8698-8bcadae3c8de",
   "metadata": {},
   "outputs": [
    {
     "name": "stdout",
     "output_type": "stream",
     "text": [
      "[10, 20, 30]\n"
     ]
    }
   ],
   "source": [
    "list1 = [10, 15, 20, 25, 30]\n",
    "even_num = list(filter(lambda x: x % 2 == 0, list1))\n",
    "print(even_num)"
   ]
  },
  {
   "cell_type": "code",
   "execution_count": 34,
   "id": "9c2d3f83-6cb3-49c1-ac7e-9ec24ff9b695",
   "metadata": {},
   "outputs": [],
   "source": [
    "# Task 4: Use reduce() from functools to calculate the product of numbers in [1, 2, 3, 4, 5]"
   ]
  },
  {
   "cell_type": "code",
   "execution_count": 35,
   "id": "b0c51294-fa2a-498f-87bb-8fc81188bfa4",
   "metadata": {},
   "outputs": [
    {
     "name": "stdout",
     "output_type": "stream",
     "text": [
      "120\n"
     ]
    }
   ],
   "source": [
    "from functools import reduce;\n",
    "list1 = [1, 2, 3, 4, 5]\n",
    "product = (reduce(lambda x, y: x * y, list1))\n",
    "print(product)"
   ]
  },
  {
   "cell_type": "code",
   "execution_count": 36,
   "id": "a23ac7c1-ebdc-4559-aa5a-7f954dd269e0",
   "metadata": {},
   "outputs": [],
   "source": [
    "#Task 5: Create a function with annotations that:\n",
    "#takes an integer as input,returns a string saying whether it is \"Even\" or \"Odd\"."
   ]
  },
  {
   "cell_type": "code",
   "execution_count": 39,
   "id": "07328f37-1728-445a-825b-330a0c35c71c",
   "metadata": {},
   "outputs": [
    {
     "name": "stdin",
     "output_type": "stream",
     "text": [
      "Enter Number:  5\n"
     ]
    },
    {
     "name": "stdout",
     "output_type": "stream",
     "text": [
      "5 is Odd\n"
     ]
    }
   ],
   "source": [
    "def check_even_odd(num: int) -> str:\n",
    "    if num % 2 == 0:\n",
    "        return \"Even\"\n",
    "    else:\n",
    "        return \"Odd\"\n",
    "user_num = int(input(\"Enter Number: \"))\n",
    "result = check_even_odd(user_num)\n",
    "print(f\"{user_num} is {result}\")"
   ]
  },
  {
   "cell_type": "code",
   "execution_count": 40,
   "id": "8e42e6f7-00c5-49ee-9ab5-5a0924fe9856",
   "metadata": {},
   "outputs": [],
   "source": [
    "# Task 6: Write a recursive function to compute the sum of all numbers from 1 to n"
   ]
  },
  {
   "cell_type": "code",
   "execution_count": 41,
   "id": "6501543a-3e41-44f1-aaca-8b8c56d59ca2",
   "metadata": {},
   "outputs": [],
   "source": [
    "def sum(n):\n",
    "    if n == 0:\n",
    "        return 0\n",
    "    else:\n",
    "        return n + sum(n - 1)"
   ]
  },
  {
   "cell_type": "code",
   "execution_count": 42,
   "id": "a52b6a76-ea96-4b5a-ba49-eda8de09baeb",
   "metadata": {},
   "outputs": [
    {
     "data": {
      "text/plain": [
       "55"
      ]
     },
     "execution_count": 42,
     "metadata": {},
     "output_type": "execute_result"
    }
   ],
   "source": [
    "sum(10)"
   ]
  },
  {
   "cell_type": "code",
   "execution_count": 43,
   "id": "11f29df1-730a-4301-9175-179c6ef8ac8e",
   "metadata": {},
   "outputs": [],
   "source": [
    "# Bonus Question: Write a function that returns different results using print, return, and yield. Call the function and show how each type of output works."
   ]
  },
  {
   "cell_type": "code",
   "execution_count": 44,
   "id": "e15fb9fe-91cf-47f8-a75e-7ae3877c0dbc",
   "metadata": {},
   "outputs": [],
   "source": [
    "# Function using print\n",
    "def use_print(x):\n",
    "    print(\"Printed value:\", x * 2)"
   ]
  },
  {
   "cell_type": "code",
   "execution_count": 45,
   "id": "d417a283-a74a-4adb-9d81-567c0ee0a3cf",
   "metadata": {},
   "outputs": [
    {
     "name": "stdout",
     "output_type": "stream",
     "text": [
      "Printed value: 8\n"
     ]
    }
   ],
   "source": [
    "use_print(4)"
   ]
  },
  {
   "cell_type": "code",
   "execution_count": 46,
   "id": "e4f919ea-83c9-4df5-9920-edd60f6a9152",
   "metadata": {},
   "outputs": [],
   "source": [
    "# Function using return\n",
    "def use_return(x):\n",
    "    return x * 2"
   ]
  },
  {
   "cell_type": "code",
   "execution_count": 47,
   "id": "b6fd168b-0a1b-4a20-aaac-a1eef99540ad",
   "metadata": {},
   "outputs": [
    {
     "data": {
      "text/plain": [
       "10"
      ]
     },
     "execution_count": 47,
     "metadata": {},
     "output_type": "execute_result"
    }
   ],
   "source": [
    "use_return(5)"
   ]
  },
  {
   "cell_type": "code",
   "execution_count": 54,
   "id": "ec39cfbe-d189-433c-9e37-3892af741c41",
   "metadata": {},
   "outputs": [
    {
     "name": "stdout",
     "output_type": "stream",
     "text": [
      "Yielded values:\n",
      "2\n",
      "4\n",
      "6\n",
      "8\n",
      "10\n"
     ]
    }
   ],
   "source": [
    "# using yield (generator)\n",
    "def use_yield(x):\n",
    "    for i in range(1, x + 1):\n",
    "        yield i * 2\n",
    "# Using yield\n",
    "gen = use_yield(5)\n",
    "print(\"Yielded values:\")\n",
    "for value in gen:\n",
    "    print(value)"
   ]
  },
  {
   "cell_type": "code",
   "execution_count": null,
   "id": "0bfa4f9d-4430-46b3-a846-0570b7c80d6f",
   "metadata": {},
   "outputs": [],
   "source": []
  },
  {
   "cell_type": "code",
   "execution_count": null,
   "id": "fb965d1a-e827-4b73-a340-16a07fd6af2a",
   "metadata": {},
   "outputs": [],
   "source": []
  }
 ],
 "metadata": {
  "kernelspec": {
   "display_name": "Python 3 (ipykernel)",
   "language": "python",
   "name": "python3"
  },
  "language_info": {
   "codemirror_mode": {
    "name": "ipython",
    "version": 3
   },
   "file_extension": ".py",
   "mimetype": "text/x-python",
   "name": "python",
   "nbconvert_exporter": "python",
   "pygments_lexer": "ipython3",
   "version": "3.13.2"
  }
 },
 "nbformat": 4,
 "nbformat_minor": 5
}
