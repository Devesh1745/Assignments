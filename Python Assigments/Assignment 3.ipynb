{
 "cells": [
  {
   "cell_type": "code",
   "execution_count": null,
   "id": "0acd1532-eb76-4217-9253-8b34e9fe5e18",
   "metadata": {},
   "outputs": [],
   "source": [
    "'''Question 1:\n",
    "Create a variable x with the value 15 . Perform floored division by 4 and\n",
    "print the result. What is the difference between floored division and normal\n",
    "division?'''"
   ]
  },
  {
   "cell_type": "code",
   "execution_count": 3,
   "id": "3faa9625-6d45-43ca-b0dc-f6ea6ae4870f",
   "metadata": {},
   "outputs": [
    {
     "name": "stdout",
     "output_type": "stream",
     "text": [
      "3\n"
     ]
    }
   ],
   "source": [
    "x = 15\n",
    "print(x//4)"
   ]
  },
  {
   "cell_type": "code",
   "execution_count": null,
   "id": "fca6f31c-ea68-470b-bd28-6d156c0e4099",
   "metadata": {},
   "outputs": [],
   "source": [
    "'''Question 2:\n",
    "Write a program to calculate 8 ** 2 and 16 ** 0.5 . Print both results and\n",
    "describe what each represents.'''"
   ]
  },
  {
   "cell_type": "code",
   "execution_count": 5,
   "id": "7bc7b319-3ebf-4a9d-84d1-200f9bd4d16f",
   "metadata": {},
   "outputs": [
    {
     "name": "stdout",
     "output_type": "stream",
     "text": [
      "8 squared: 64\n",
      "Square root of 16: 4.0\n"
     ]
    }
   ],
   "source": [
    "cal1 = 8 ** 2\n",
    "cal2 = 16 ** 0.5\n",
    "print(\"8 squared:\", cal1)\n",
    "print(\"Square root of 16:\", cal2)"
   ]
  },
  {
   "cell_type": "code",
   "execution_count": null,
   "id": "f8a4e425-861c-40f1-ab51-a74c749a17ee",
   "metadata": {},
   "outputs": [],
   "source": [
    "'''Question 3:\n",
    "Use arithmetic operators to solve the following expression: 20 - 5 * 3 + 8 /\n",
    "4 . Use parentheses to make sure the addition happens before\n",
    "multiplication. Print the output.'''"
   ]
  },
  {
   "cell_type": "code",
   "execution_count": 7,
   "id": "7360f5cd-076a-4e7a-8614-58f740a0a384",
   "metadata": {},
   "outputs": [
    {
     "data": {
      "text/plain": [
       "6.25"
      ]
     },
     "execution_count": 7,
     "metadata": {},
     "output_type": "execute_result"
    }
   ],
   "source": [
    "20 - 5 * (3 + 8) / 4"
   ]
  },
  {
   "cell_type": "code",
   "execution_count": null,
   "id": "71f5c6ad-55cc-42a1-b20b-a762748da213",
   "metadata": {},
   "outputs": [],
   "source": [
    "'''Question 4:\n",
    "Assign the value 7 to a variable num . Convert it to a float and print the\n",
    "result. What is the difference between 7 and 7.0 ?'''"
   ]
  },
  {
   "cell_type": "code",
   "execution_count": 10,
   "id": "bc330ce5-246d-48c2-b5b0-e290fc53306b",
   "metadata": {},
   "outputs": [
    {
     "name": "stdout",
     "output_type": "stream",
     "text": [
      "7.0\n"
     ]
    }
   ],
   "source": [
    "num = 7 \n",
    "float_num = float(num)\n",
    "print(float_num)"
   ]
  },
  {
   "cell_type": "code",
   "execution_count": null,
   "id": "156ccc16-c917-4489-a21b-fc8aade498c6",
   "metadata": {},
   "outputs": [],
   "source": [
    "#7 (Int): Represents a whole number without any decimal places.\n",
    "#7.0 (Float): Represents a number with a decimal point, even if the decimal part is zero. Floats are used when more precision is needed."
   ]
  },
  {
   "cell_type": "code",
   "execution_count": null,
   "id": "d3229918-3115-4c41-99d3-a82b16397ff5",
   "metadata": {},
   "outputs": [],
   "source": [
    "'''Question 5:\n",
    "Use a comparison operator to check if 100 is greater than 50 . Print the\n",
    "result and indicate what type of value this is.'''"
   ]
  },
  {
   "cell_type": "code",
   "execution_count": 11,
   "id": "50ecdb11-6bc8-4f79-bfeb-e2b1ac07b8ef",
   "metadata": {},
   "outputs": [
    {
     "name": "stdout",
     "output_type": "stream",
     "text": [
      "True\n"
     ]
    }
   ],
   "source": [
    "print (100>50)"
   ]
  },
  {
   "cell_type": "code",
   "execution_count": null,
   "id": "3ba532e9-f976-4c42-8b4f-9c8d2b3c35d1",
   "metadata": {},
   "outputs": [],
   "source": [
    "'''Question 6:\n",
    "Assign True to a variable is_sunny and False to is_weekend . Use logical\n",
    "operators to check if it is sunny and the weekend ( is_sunny and is_weekend ).\n",
    "Print the result.'''"
   ]
  },
  {
   "cell_type": "code",
   "execution_count": 13,
   "id": "c114b625-6d77-490d-afd7-300650a0fd56",
   "metadata": {},
   "outputs": [
    {
     "name": "stdout",
     "output_type": "stream",
     "text": [
      "False\n"
     ]
    }
   ],
   "source": [
    "is_sunny = True\n",
    "is_weekend = False\n",
    "result = is_sunny and is_weekend\n",
    "print(result)"
   ]
  },
  {
   "cell_type": "code",
   "execution_count": null,
   "id": "19ede98e-7bee-4267-b267-ce02a4b1b59f",
   "metadata": {},
   "outputs": [],
   "source": [
    "'''Question 7:\n",
    "Create a variable password and set it to \"my_password123\" . Ask the user to input\n",
    "a password and print True if the input matches the value of password ,\n",
    "otherwise print False .'''"
   ]
  },
  {
   "cell_type": "code",
   "execution_count": 15,
   "id": "951051a8-59f7-4aa1-abe5-0f1425d3b4c0",
   "metadata": {},
   "outputs": [
    {
     "name": "stdin",
     "output_type": "stream",
     "text": [
      "Enter your password:  my_password123\n"
     ]
    },
    {
     "name": "stdout",
     "output_type": "stream",
     "text": [
      "True\n"
     ]
    }
   ],
   "source": [
    "password = \"my_password123\"\n",
    "user_input = input(\"Enter your password: \")\n",
    "\n",
    "if user_input == password:\n",
    "    print(True)\n",
    "else:\n",
    "    print(False)"
   ]
  },
  {
   "cell_type": "code",
   "execution_count": null,
   "id": "f87a1bd5-67ae-4997-9fe9-7750aa91d55a",
   "metadata": {},
   "outputs": [],
   "source": [
    "'''Question 8:\n",
    "Assign the value 50 to a variable marks . Increment the value of marks by 5\n",
    "using the += operator, then print the new value.'''"
   ]
  },
  {
   "cell_type": "code",
   "execution_count": 16,
   "id": "861e9985-9823-4eab-984a-aad7b55dfedf",
   "metadata": {},
   "outputs": [
    {
     "name": "stdout",
     "output_type": "stream",
     "text": [
      "55\n"
     ]
    }
   ],
   "source": [
    "marks = 50\n",
    "marks += 5\n",
    "print(marks)"
   ]
  },
  {
   "cell_type": "code",
   "execution_count": null,
   "id": "0d31962e-9b50-4e0f-bef8-9649fff8d5b3",
   "metadata": {},
   "outputs": [],
   "source": [
    "'''Question 9:\n",
    "Write a program to check if the value of a = 0 and b = 10 satisfies a or b .\n",
    "Print the output and explain why it gives that result.'''"
   ]
  },
  {
   "cell_type": "code",
   "execution_count": 17,
   "id": "ee5df73d-b345-49aa-b421-79a3ae2aad9f",
   "metadata": {},
   "outputs": [
    {
     "name": "stdout",
     "output_type": "stream",
     "text": [
      "The condition 'a or b' is True\n"
     ]
    }
   ],
   "source": [
    "a = 0\n",
    "b = 10\n",
    "if a or b:\n",
    "    print(\"The condition 'a or b' is True\")\n",
    "else:\n",
    "    print(\"The condition 'a or b' is False\")"
   ]
  },
  {
   "cell_type": "code",
   "execution_count": null,
   "id": "d86ef054-575d-4b39-bec2-f68a80e2e451",
   "metadata": {},
   "outputs": [],
   "source": [
    "# returns True if at least one of the conditions it checks is True. in \"OR\" operator"
   ]
  },
  {
   "cell_type": "code",
   "execution_count": null,
   "id": "67afa31e-c072-45b7-bfcd-69ee435b8d57",
   "metadata": {},
   "outputs": [],
   "source": [
    "'''Question 10:\n",
    "Use not to negate the value of False and print the result. Explain what the\n",
    "not operator does in Python.'''"
   ]
  },
  {
   "cell_type": "code",
   "execution_count": 18,
   "id": "15fc9694-28fa-409e-8b16-76aeaed6fbcf",
   "metadata": {},
   "outputs": [
    {
     "name": "stdout",
     "output_type": "stream",
     "text": [
      "True\n"
     ]
    }
   ],
   "source": [
    "result = not False\n",
    "print(result)\n"
   ]
  },
  {
   "cell_type": "code",
   "execution_count": null,
   "id": "ebc9547d-3ca8-46b5-b4fd-4253b2105436",
   "metadata": {},
   "outputs": [],
   "source": []
  }
 ],
 "metadata": {
  "kernelspec": {
   "display_name": "Python 3 (ipykernel)",
   "language": "python",
   "name": "python3"
  },
  "language_info": {
   "codemirror_mode": {
    "name": "ipython",
    "version": 3
   },
   "file_extension": ".py",
   "mimetype": "text/x-python",
   "name": "python",
   "nbconvert_exporter": "python",
   "pygments_lexer": "ipython3",
   "version": "3.13.2"
  }
 },
 "nbformat": 4,
 "nbformat_minor": 5
}
